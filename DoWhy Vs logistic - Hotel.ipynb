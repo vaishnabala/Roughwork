{
  "nbformat": 4,
  "nbformat_minor": 0,
  "metadata": {
    "colab": {
      "provenance": [],
      "authorship_tag": "ABX9TyO6tQZwmDjJxX9hb/eChf5C",
      "include_colab_link": true
    },
    "kernelspec": {
      "name": "python3",
      "display_name": "Python 3"
    },
    "language_info": {
      "name": "python"
    }
  },
  "cells": [
    {
      "cell_type": "markdown",
      "metadata": {
        "id": "view-in-github",
        "colab_type": "text"
      },
      "source": [
        "<a href=\"https://colab.research.google.com/github/vaishnabala/Lending_case_study/blob/master/DoWhy%20Vs%20logistic%20-%20Hotel.ipynb\" target=\"_parent\"><img src=\"https://colab.research.google.com/assets/colab-badge.svg\" alt=\"Open In Colab\"/></a>"
      ]
    },
    {
      "cell_type": "code",
      "source": [
        "pip install dowhy"
      ],
      "metadata": {
        "id": "U2dKmmoUkkw8"
      },
      "execution_count": null,
      "outputs": []
    },
    {
      "cell_type": "code",
      "execution_count": null,
      "metadata": {
        "id": "bCOL5S-3jXQ3"
      },
      "outputs": [],
      "source": [
        "import pandas as pd\n",
        "import numpy as np\n",
        "import matplotlib.pyplot as plt\n",
        "\n",
        "import dowhy"
      ]
    },
    {
      "cell_type": "code",
      "source": [
        "dataset = pd.read_csv('https://raw.githubusercontent.com/Sid-darthvader/DoWhy-The-Causal-Story-Behind-Hotel-Booking-Cancellations/master/hotel_bookings.csv')\n",
        "dataset.head()"
      ],
      "metadata": {
        "id": "ws7MWCZuksmf"
      },
      "execution_count": null,
      "outputs": []
    },
    {
      "cell_type": "code",
      "source": [
        "dataset.columns"
      ],
      "metadata": {
        "id": "HLqVE8rRkwSv"
      },
      "execution_count": null,
      "outputs": []
    },
    {
      "cell_type": "code",
      "source": [
        "# Total stay in nights\n",
        "dataset['total_stay'] = dataset['stays_in_week_nights']+dataset['stays_in_weekend_nights']\n",
        "# Total number of guests\n",
        "dataset['guests'] = dataset['adults']+dataset['children'] +dataset['babies']\n",
        "# Creating the different_room_assigned feature\n",
        "dataset['different_room_assigned']=0\n",
        "slice_indices =dataset['reserved_room_type']!=dataset['assigned_room_type']\n",
        "dataset.loc[slice_indices,'different_room_assigned']=1\n",
        "# Deleting older features\n",
        "dataset = dataset.drop(['stays_in_week_nights','stays_in_weekend_nights','adults','children','babies'\n",
        "                        ,'reserved_room_type','assigned_room_type'],axis=1)\n",
        "dataset.columns"
      ],
      "metadata": {
        "id": "vTRpDAz_ky-8"
      },
      "execution_count": null,
      "outputs": []
    },
    {
      "cell_type": "code",
      "source": [
        "dataset.isnull().sum() # Country,Agent,Company contain 488,16340,112593 missing entries\n",
        "dataset = dataset.drop(['agent','company'],axis=1)\n",
        "# Replacing missing countries with most freqently occuring countries\n",
        "dataset['country']= dataset['country'].fillna(dataset['country'].mode()[0])"
      ],
      "metadata": {
        "id": "JYxddHw-k1Nt"
      },
      "execution_count": null,
      "outputs": []
    },
    {
      "cell_type": "code",
      "source": [
        "dataset = dataset.drop(['reservation_status','reservation_status_date','arrival_date_day_of_month'],axis=1)\n",
        "dataset = dataset.drop(['arrival_date_year'],axis=1)\n",
        "dataset = dataset.drop(['distribution_channel'], axis=1)"
      ],
      "metadata": {
        "id": "GY8et-xEl7Tu"
      },
      "execution_count": null,
      "outputs": []
    },
    {
      "cell_type": "code",
      "source": [
        "# Replacing 1 by True and 0 by False for the experiment and outcome variables\n",
        "dataset['different_room_assigned']= dataset['different_room_assigned'].replace(1,True)\n",
        "dataset['different_room_assigned']= dataset['different_room_assigned'].replace(0,False)\n",
        "dataset['is_canceled']= dataset['is_canceled'].replace(1,True)\n",
        "dataset['is_canceled']= dataset['is_canceled'].replace(0,False)\n",
        "dataset.dropna(inplace=True)\n",
        "print(dataset.columns)\n",
        "dataset.iloc[:, 5:20].head(100)"
      ],
      "metadata": {
        "id": "ryJDtdJMmChT"
      },
      "execution_count": null,
      "outputs": []
    },
    {
      "cell_type": "code",
      "source": [
        "dataset = dataset[dataset.deposit_type==\"No Deposit\"]\n",
        "dataset.groupby(['deposit_type','is_canceled']).count()"
      ],
      "metadata": {
        "id": "uiQZ8LrGmFF7"
      },
      "execution_count": null,
      "outputs": []
    },
    {
      "cell_type": "code",
      "source": [
        "dataset_copy = dataset.copy(deep=True)"
      ],
      "metadata": {
        "id": "jr99lt6RmHkt"
      },
      "execution_count": null,
      "outputs": []
    },
    {
      "cell_type": "markdown",
      "source": [
        "Calculating Expected Counts"
      ],
      "metadata": {
        "id": "fZvZzpOumKtS"
      }
    },
    {
      "cell_type": "code",
      "source": [
        "counts_sum=0\n",
        "for i in range(1,10000):\n",
        "        counts_i = 0\n",
        "        rdf = dataset.sample(1000)\n",
        "        counts_i = rdf[rdf[\"is_canceled\"]== rdf[\"different_room_assigned\"]].shape[0]\n",
        "        counts_sum+= counts_i\n",
        "counts_sum/10000"
      ],
      "metadata": {
        "colab": {
          "base_uri": "https://localhost:8080/",
          "height": 37
        },
        "id": "vW8nDRCnmJ1u",
        "outputId": "2c5994ef-6df9-4775-ed5a-a0bd0a2b3fea"
      },
      "execution_count": null,
      "outputs": [
        {
          "output_type": "execute_result",
          "data": {
            "text/plain": [
              "588.5661"
            ],
            "text/latex": "$\\displaystyle 588.5661$"
          },
          "metadata": {},
          "execution_count": 12
        }
      ]
    },
    {
      "cell_type": "code",
      "source": [],
      "metadata": {
        "id": "4istexykv3O2"
      },
      "execution_count": null,
      "outputs": []
    },
    {
      "cell_type": "code",
      "source": [
        "# Expected Count when there are no booking changes\n",
        "counts_sum=0\n",
        "for i in range(1,10000):\n",
        "        counts_i = 0\n",
        "        rdf = dataset[dataset[\"booking_changes\"]==0].sample(1000)\n",
        "        counts_i = rdf[rdf[\"is_canceled\"]== rdf[\"different_room_assigned\"]].shape[0]\n",
        "        counts_sum+= counts_i\n",
        "counts_sum/10000"
      ],
      "metadata": {
        "colab": {
          "base_uri": "https://localhost:8080/",
          "height": 37
        },
        "id": "YPREED0YmM3_",
        "outputId": "51b2522b-32a2-4039-aab0-f5312bcf9ce0"
      },
      "execution_count": null,
      "outputs": [
        {
          "output_type": "execute_result",
          "data": {
            "text/plain": [
              "572.8979"
            ],
            "text/latex": "$\\displaystyle 572.8979$"
          },
          "metadata": {},
          "execution_count": 13
        }
      ]
    },
    {
      "cell_type": "code",
      "source": [
        "# Expected Count when there are booking changes = 66.4%\n",
        "counts_sum=0\n",
        "for i in range(1,10000):\n",
        "        counts_i = 0\n",
        "        rdf = dataset[dataset[\"booking_changes\"]>0].sample(1000)\n",
        "        counts_i = rdf[rdf[\"is_canceled\"]== rdf[\"different_room_assigned\"]].shape[0]\n",
        "        counts_sum+= counts_i\n",
        "counts_sum/10000"
      ],
      "metadata": {
        "colab": {
          "base_uri": "https://localhost:8080/",
          "height": 37
        },
        "id": "8HqiCycExYxd",
        "outputId": "bda813b5-20cb-422b-e6e2-11892dabf495"
      },
      "execution_count": null,
      "outputs": [
        {
          "output_type": "execute_result",
          "data": {
            "text/plain": [
              "665.8015"
            ],
            "text/latex": "$\\displaystyle 665.8015$"
          },
          "metadata": {},
          "execution_count": 14
        }
      ]
    },
    {
      "cell_type": "code",
      "source": [
        "import pygraphviz\n",
        "causal_graph = \"\"\"digraph {\n",
        "different_room_assigned[label=\"Different Room Assigned\"];\n",
        "is_canceled[label=\"Booking Cancelled\"];\n",
        "booking_changes[label=\"Booking Changes\"];\n",
        "previous_bookings_not_canceled[label=\"Previous Booking Retentions\"];\n",
        "days_in_waiting_list[label=\"Days in Waitlist\"];\n",
        "lead_time[label=\"Lead Time\"];\n",
        "market_segment[label=\"Market Segment\"];\n",
        "country[label=\"Country\"];\n",
        "U[label=\"Unobserved Confounders\",observed=\"no\"];\n",
        "is_repeated_guest;\n",
        "total_stay;\n",
        "guests;\n",
        "meal;\n",
        "hotel;\n",
        "U->{different_room_assigned,required_car_parking_spaces,guests,total_stay,total_of_special_requests};\n",
        "market_segment -> lead_time;\n",
        "lead_time->is_canceled; country -> lead_time;\n",
        "different_room_assigned -> is_canceled;\n",
        "country->meal;\n",
        "lead_time -> days_in_waiting_list;\n",
        "days_in_waiting_list ->{is_canceled,different_room_assigned};\n",
        "previous_bookings_not_canceled -> is_canceled;\n",
        "previous_bookings_not_canceled -> is_repeated_guest;\n",
        "is_repeated_guest -> {different_room_assigned,is_canceled};\n",
        "total_stay -> is_canceled;\n",
        "guests -> is_canceled;\n",
        "booking_changes -> different_room_assigned; booking_changes -> is_canceled;\n",
        "hotel -> {different_room_assigned,is_canceled};\n",
        "required_car_parking_spaces -> is_canceled;\n",
        "total_of_special_requests -> {booking_changes,is_canceled};\n",
        "country->{hotel, required_car_parking_spaces,total_of_special_requests};\n",
        "market_segment->{hotel, required_car_parking_spaces,total_of_special_requests};\n",
        "}\"\"\""
      ],
      "metadata": {
        "id": "K1osKtyzzT2E"
      },
      "execution_count": null,
      "outputs": []
    },
    {
      "cell_type": "code",
      "source": [
        "model= dowhy.CausalModel(\n",
        "        data = dataset,\n",
        "        graph=causal_graph.replace(\"\\n\", \" \"),\n",
        "        treatment=\"different_room_assigned\",\n",
        "        outcome='is_canceled')\n",
        "model.view_model()\n",
        "from IPython.display import Image, display\n",
        "display(Image(filename=\"causal_model.png\"))"
      ],
      "metadata": {
        "id": "nLR47laezVA9"
      },
      "execution_count": null,
      "outputs": []
    },
    {
      "cell_type": "code",
      "source": [
        "#Identify the causal effect\n",
        "identified_estimand = model.identify_effect(proceed_when_unidentifiable=True)\n",
        "print(identified_estimand)"
      ],
      "metadata": {
        "id": "iK9qav_SzZL9"
      },
      "execution_count": null,
      "outputs": []
    },
    {
      "cell_type": "code",
      "source": [
        "estimate = model.estimate_effect(identified_estimand,\n",
        "                                 method_name=\"backdoor.propensity_score_weighting\",target_units=\"ate\")\n",
        "# ATE = Average Treatment Effect\n",
        "# ATT = Average Treatment Effect on Treated (i.e. those who were assigned a different room)\n",
        "# ATC = Average Treatment Effect on Control (i.e. those who were not assigned a different room)\n",
        "print(estimate)"
      ],
      "metadata": {
        "id": "PFFE5uryzZGk"
      },
      "execution_count": null,
      "outputs": []
    },
    {
      "cell_type": "code",
      "source": [
        "refute1_results=model.refute_estimate(identified_estimand, estimate,\n",
        "        method_name=\"random_common_cause\")\n",
        "print(refute1_results)"
      ],
      "metadata": {
        "id": "xncoW04rzZBT"
      },
      "execution_count": null,
      "outputs": []
    },
    {
      "cell_type": "code",
      "source": [
        "refute2_results=model.refute_estimate(identified_estimand, estimate,\n",
        "        method_name=\"placebo_treatment_refuter\")\n",
        "print(refute2_results)"
      ],
      "metadata": {
        "id": "Ih5ujvtxzTo4"
      },
      "execution_count": null,
      "outputs": []
    },
    {
      "cell_type": "code",
      "source": [
        "refute3_results=model.refute_estimate(identified_estimand, estimate,\n",
        "        method_name=\"data_subset_refuter\")\n",
        "print(refute3_results)"
      ],
      "metadata": {
        "id": "dmki0rBBzjMC"
      },
      "execution_count": null,
      "outputs": []
    },
    {
      "cell_type": "code",
      "source": [],
      "metadata": {
        "id": "liiGA5LBzi44"
      },
      "execution_count": null,
      "outputs": []
    },
    {
      "cell_type": "code",
      "source": [],
      "metadata": {
        "id": "ipTCC8c3zi0z"
      },
      "execution_count": null,
      "outputs": []
    },
    {
      "cell_type": "code",
      "source": [],
      "metadata": {
        "id": "MCIteDalziv_"
      },
      "execution_count": null,
      "outputs": []
    },
    {
      "cell_type": "code",
      "source": [],
      "metadata": {
        "id": "tycVq2olzipT"
      },
      "execution_count": null,
      "outputs": []
    },
    {
      "cell_type": "code",
      "source": [],
      "metadata": {
        "id": "oJRB3j_vzikw"
      },
      "execution_count": null,
      "outputs": []
    },
    {
      "cell_type": "code",
      "source": [],
      "metadata": {
        "id": "gjn-YYVqziKP"
      },
      "execution_count": null,
      "outputs": []
    },
    {
      "cell_type": "code",
      "source": [
        "import requests\n",
        "response = requests.get(\"hhttps://www.googleapis.com/calendar/v3/calendars/calendarId\")"
      ],
      "metadata": {
        "id": "I5vgeIBHn9RN"
      },
      "execution_count": null,
      "outputs": []
    },
    {
      "cell_type": "code",
      "source": [
        "dict_response = dict(response.text)\n",
        "#dict_response#.keys()"
      ],
      "metadata": {
        "colab": {
          "base_uri": "https://localhost:8080/",
          "height": 159
        },
        "id": "3mbsnARIoD3k",
        "outputId": "77f0dde0-1af4-4e5a-8a1e-14e71dc90311"
      },
      "execution_count": null,
      "outputs": [
        {
          "output_type": "error",
          "ename": "ValueError",
          "evalue": "dictionary update sequence element #0 has length 1; 2 is required",
          "traceback": [
            "\u001b[0;31m---------------------------------------------------------------------------\u001b[0m",
            "\u001b[0;31mValueError\u001b[0m                                Traceback (most recent call last)",
            "\u001b[0;32m<ipython-input-25-f54f86af2e33>\u001b[0m in \u001b[0;36m<cell line: 1>\u001b[0;34m()\u001b[0m\n\u001b[0;32m----> 1\u001b[0;31m \u001b[0mdict_response\u001b[0m \u001b[0;34m=\u001b[0m \u001b[0mdict\u001b[0m\u001b[0;34m(\u001b[0m\u001b[0mresponse\u001b[0m\u001b[0;34m.\u001b[0m\u001b[0mtext\u001b[0m\u001b[0;34m)\u001b[0m\u001b[0;34m\u001b[0m\u001b[0;34m\u001b[0m\u001b[0m\n\u001b[0m\u001b[1;32m      2\u001b[0m \u001b[0;31m#dict_response#.keys()\u001b[0m\u001b[0;34m\u001b[0m\u001b[0;34m\u001b[0m\u001b[0m\n",
            "\u001b[0;31mValueError\u001b[0m: dictionary update sequence element #0 has length 1; 2 is required"
          ]
        }
      ]
    },
    {
      "cell_type": "code",
      "source": [
        "%%timeit\n",
        "a=list()\n",
        "for i in range (50000000):\n",
        "  a.append(i*1000)\n"
      ],
      "metadata": {
        "colab": {
          "base_uri": "https://localhost:8080/"
        },
        "id": "a_ai9_ZkoTCr",
        "outputId": "baedd591-0577-4e81-ac9f-b7b30bdc4d27"
      },
      "execution_count": null,
      "outputs": [
        {
          "output_type": "stream",
          "name": "stdout",
          "text": [
            "6.42 s ± 510 ms per loop (mean ± std. dev. of 7 runs, 1 loop each)\n"
          ]
        }
      ]
    },
    {
      "cell_type": "code",
      "source": [
        "%%timeit\n",
        "np.array(range (50000000))*1000"
      ],
      "metadata": {
        "colab": {
          "base_uri": "https://localhost:8080/"
        },
        "id": "3zrVQvC7s-UB",
        "outputId": "0414e587-a52e-481c-d8a2-3cd44d28c9e0"
      },
      "execution_count": null,
      "outputs": [
        {
          "output_type": "stream",
          "name": "stdout",
          "text": [
            "5.09 s ± 472 ms per loop (mean ± std. dev. of 7 runs, 1 loop each)\n"
          ]
        }
      ]
    }
  ]
}